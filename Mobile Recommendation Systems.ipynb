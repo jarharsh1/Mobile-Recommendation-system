{
 "cells": [
  {
   "cell_type": "code",
   "execution_count": 1,
   "id": "86926aaf",
   "metadata": {},
   "outputs": [],
   "source": [
    "import pandas as pd\n",
    "import numpy as np\n",
    "import seaborn as sns\n",
    "sns.set_theme(style='darkgrid',palette='dark')\n",
    "import matplotlib.pyplot as plt\n",
    "import warnings as warn\n",
    "warn.filterwarnings('ignore')\n",
    "from surprise.model_selection import KFold\n",
    "from surprise import SVD\n",
    "from surprise import KNNWithMeans\n",
    "from surprise import accuracy\n",
    "from surprise.model_selection import train_test_split,cross_validate\n",
    "from surprise import Dataset\n",
    "from surprise import Reader\n",
    "import math\n",
    "from collections import defaultdict"
   ]
  },
  {
   "cell_type": "code",
   "execution_count": 2,
   "id": "dc6459d0",
   "metadata": {},
   "outputs": [],
   "source": [
    "df1=pd.read_csv('phone_user_review_file_1.csv',encoding=\"latin-1\")\n",
    "df2=pd.read_csv('phone_user_review_file_2.csv',encoding=\"latin-1\")\n",
    "df3=pd.read_csv('phone_user_review_file_3.csv',encoding=\"latin-1\")\n",
    "df4=pd.read_csv('phone_user_review_file_4.csv',encoding=\"latin-1\")\n",
    "df5=pd.read_csv('phone_user_review_file_5.csv',encoding=\"latin-1\")\n",
    "df6=pd.read_csv('phone_user_review_file_6.csv',encoding=\"latin-1\")"
   ]
  },
  {
   "cell_type": "code",
   "execution_count": 3,
   "id": "e5fea420",
   "metadata": {},
   "outputs": [
    {
     "name": "stdout",
     "output_type": "stream",
     "text": [
      "Dataframe 1 size = (374910, 11)\n",
      "Dataframe 1 size = (114925, 11)\n",
      "Dataframe 1 size = (312961, 11)\n",
      "Dataframe 1 size = (98284, 11)\n",
      "Dataframe 1 size = (350216, 11)\n",
      "Dataframe 1 size = (163837, 11)\n",
      "Final Dataframe rows = 1415133\n"
     ]
    }
   ],
   "source": [
    "print(f\"Dataframe 1 size = {df1.shape}\")\n",
    "print(f\"Dataframe 1 size = {df2.shape}\")\n",
    "print(f\"Dataframe 1 size = {df3.shape}\")\n",
    "print(f\"Dataframe 1 size = {df4.shape}\")\n",
    "print(f\"Dataframe 1 size = {df5.shape}\")\n",
    "print(f\"Dataframe 1 size = {df6.shape}\")\n",
    "print(f\"Final Dataframe rows = {df1.shape[0]+df2.shape[0]+df3.shape[0]+df4.shape[0]+df5.shape[0]+df6.shape[0]}\")"
   ]
  },
  {
   "cell_type": "code",
   "execution_count": 4,
   "id": "9c3e8a69",
   "metadata": {},
   "outputs": [],
   "source": [
    "arr1=df1.values\n",
    "arr2=df2.values\n",
    "arr3=df3.values\n",
    "arr4=df4.values\n",
    "arr5=df5.values\n",
    "arr6=df6.values"
   ]
  },
  {
   "cell_type": "code",
   "execution_count": 5,
   "id": "c0f567f6",
   "metadata": {},
   "outputs": [],
   "source": [
    "arr=np.concatenate((arr1,arr2,arr3,arr4,arr5,arr6))"
   ]
  },
  {
   "cell_type": "code",
   "execution_count": 6,
   "id": "0c354c31",
   "metadata": {},
   "outputs": [],
   "source": [
    "df=pd.DataFrame(arr,columns=df1.columns)"
   ]
  },
  {
   "cell_type": "code",
   "execution_count": 7,
   "id": "40730938",
   "metadata": {},
   "outputs": [
    {
     "name": "stdout",
     "output_type": "stream",
     "text": [
      "Dataframe size = (1415133, 11)\n"
     ]
    }
   ],
   "source": [
    "print(f\"Dataframe size = {df.shape}\")"
   ]
  },
  {
   "cell_type": "code",
   "execution_count": 8,
   "id": "a54e9ade",
   "metadata": {},
   "outputs": [
    {
     "data": {
      "text/html": [
       "<div>\n",
       "<style scoped>\n",
       "    .dataframe tbody tr th:only-of-type {\n",
       "        vertical-align: middle;\n",
       "    }\n",
       "\n",
       "    .dataframe tbody tr th {\n",
       "        vertical-align: top;\n",
       "    }\n",
       "\n",
       "    .dataframe thead th {\n",
       "        text-align: right;\n",
       "    }\n",
       "</style>\n",
       "<table border=\"1\" class=\"dataframe\">\n",
       "  <thead>\n",
       "    <tr style=\"text-align: right;\">\n",
       "      <th></th>\n",
       "      <th>count</th>\n",
       "      <th>unique</th>\n",
       "      <th>top</th>\n",
       "      <th>freq</th>\n",
       "    </tr>\n",
       "  </thead>\n",
       "  <tbody>\n",
       "    <tr>\n",
       "      <th>phone_url</th>\n",
       "      <td>1415133</td>\n",
       "      <td>5556</td>\n",
       "      <td>/cellphones/samsung-galaxy-s-iii/</td>\n",
       "      <td>17093</td>\n",
       "    </tr>\n",
       "    <tr>\n",
       "      <th>date</th>\n",
       "      <td>1415133</td>\n",
       "      <td>7728</td>\n",
       "      <td>7/18/2016</td>\n",
       "      <td>3244</td>\n",
       "    </tr>\n",
       "    <tr>\n",
       "      <th>lang</th>\n",
       "      <td>1415133</td>\n",
       "      <td>22</td>\n",
       "      <td>en</td>\n",
       "      <td>554746</td>\n",
       "    </tr>\n",
       "    <tr>\n",
       "      <th>country</th>\n",
       "      <td>1415133</td>\n",
       "      <td>42</td>\n",
       "      <td>us</td>\n",
       "      <td>318435</td>\n",
       "    </tr>\n",
       "    <tr>\n",
       "      <th>source</th>\n",
       "      <td>1415133</td>\n",
       "      <td>331</td>\n",
       "      <td>Amazon</td>\n",
       "      <td>728471</td>\n",
       "    </tr>\n",
       "    <tr>\n",
       "      <th>domain</th>\n",
       "      <td>1415133</td>\n",
       "      <td>384</td>\n",
       "      <td>amazon.com</td>\n",
       "      <td>214776</td>\n",
       "    </tr>\n",
       "    <tr>\n",
       "      <th>score</th>\n",
       "      <td>1351644.0</td>\n",
       "      <td>86.0</td>\n",
       "      <td>10.0</td>\n",
       "      <td>656239.0</td>\n",
       "    </tr>\n",
       "    <tr>\n",
       "      <th>score_max</th>\n",
       "      <td>1351644.0</td>\n",
       "      <td>1.0</td>\n",
       "      <td>10.0</td>\n",
       "      <td>1351644.0</td>\n",
       "    </tr>\n",
       "    <tr>\n",
       "      <th>extract</th>\n",
       "      <td>1395772</td>\n",
       "      <td>1321353</td>\n",
       "      <td>#NAME?</td>\n",
       "      <td>667</td>\n",
       "    </tr>\n",
       "    <tr>\n",
       "      <th>author</th>\n",
       "      <td>1351931</td>\n",
       "      <td>801103</td>\n",
       "      <td>Amazon Customer</td>\n",
       "      <td>76978</td>\n",
       "    </tr>\n",
       "    <tr>\n",
       "      <th>product</th>\n",
       "      <td>1415132</td>\n",
       "      <td>61313</td>\n",
       "      <td>Lenovo Vibe K4 Note (White,16GB)</td>\n",
       "      <td>5226</td>\n",
       "    </tr>\n",
       "  </tbody>\n",
       "</table>\n",
       "</div>"
      ],
      "text/plain": [
       "               count   unique                                top       freq\n",
       "phone_url    1415133     5556  /cellphones/samsung-galaxy-s-iii/      17093\n",
       "date         1415133     7728                          7/18/2016       3244\n",
       "lang         1415133       22                                 en     554746\n",
       "country      1415133       42                                 us     318435\n",
       "source       1415133      331                             Amazon     728471\n",
       "domain       1415133      384                         amazon.com     214776\n",
       "score      1351644.0     86.0                               10.0   656239.0\n",
       "score_max  1351644.0      1.0                               10.0  1351644.0\n",
       "extract      1395772  1321353                             #NAME?        667\n",
       "author       1351931   801103                    Amazon Customer      76978\n",
       "product      1415132    61313   Lenovo Vibe K4 Note (White,16GB)       5226"
      ]
     },
     "execution_count": 8,
     "metadata": {},
     "output_type": "execute_result"
    }
   ],
   "source": [
    "df.describe().T"
   ]
  },
  {
   "cell_type": "code",
   "execution_count": 9,
   "id": "3af09e76",
   "metadata": {},
   "outputs": [
    {
     "name": "stdout",
     "output_type": "stream",
     "text": [
      "<class 'pandas.core.frame.DataFrame'>\n",
      "RangeIndex: 1415133 entries, 0 to 1415132\n",
      "Data columns (total 11 columns):\n",
      " #   Column     Non-Null Count    Dtype \n",
      "---  ------     --------------    ----- \n",
      " 0   phone_url  1415133 non-null  object\n",
      " 1   date       1415133 non-null  object\n",
      " 2   lang       1415133 non-null  object\n",
      " 3   country    1415133 non-null  object\n",
      " 4   source     1415133 non-null  object\n",
      " 5   domain     1415133 non-null  object\n",
      " 6   score      1351644 non-null  object\n",
      " 7   score_max  1351644 non-null  object\n",
      " 8   extract    1395772 non-null  object\n",
      " 9   author     1351931 non-null  object\n",
      " 10  product    1415132 non-null  object\n",
      "dtypes: object(11)\n",
      "memory usage: 118.8+ MB\n"
     ]
    }
   ],
   "source": [
    "df.info()"
   ]
  },
  {
   "cell_type": "code",
   "execution_count": 10,
   "id": "8f0e939f",
   "metadata": {},
   "outputs": [
    {
     "name": "stdout",
     "output_type": "stream",
     "text": [
      "Columns with nan values:\n",
      "phone_url        0\n",
      "date             0\n",
      "lang             0\n",
      "country          0\n",
      "source           0\n",
      "domain           0\n",
      "score        63489\n",
      "score_max    63489\n",
      "extract      19361\n",
      "author       63202\n",
      "product          1\n",
      "dtype: int64 \n",
      "---------------\n",
      "Columns with null values:\n",
      "phone_url        0\n",
      "date             0\n",
      "lang             0\n",
      "country          0\n",
      "source           0\n",
      "domain           0\n",
      "score        63489\n",
      "score_max    63489\n",
      "extract      19361\n",
      "author       63202\n",
      "product          1\n",
      "dtype: int64\n"
     ]
    }
   ],
   "source": [
    "print(f\"Columns with nan values:\\n{df.isna().sum()} \\n---------------\\nColumns with null values:\\n{df.isnull().sum()}\")"
   ]
  },
  {
   "cell_type": "code",
   "execution_count": 11,
   "id": "81696c3a",
   "metadata": {},
   "outputs": [],
   "source": [
    "#finding columns with null values\n",
    "def null_columns(dataframe):\n",
    "    cols=dataframe.columns\n",
    "    nulls=[]\n",
    "    for i in cols:\n",
    "        if dataframe[i].isna().sum()!=0:\n",
    "            nulls.append(i)\n",
    "    return nulls    \n",
    "    \n",
    "#finding the medians for imputation of missing values\n",
    "def find_fills(dataframe):\n",
    "    cols=null_columns(dataframe)\n",
    "    filler=[]\n",
    "    for i in cols:\n",
    "        try:\n",
    "            val=dataframe[i].value_counts()[:1].sort_values(ascending=False).index[0]\n",
    "        except IndexError:\n",
    "            val=dataframe[i].median()\n",
    "        finally:\n",
    "            filler.append(val)\n",
    "    return(filler)\n",
    "    \n",
    "#filling the missing values with the most occuring values\n",
    "\n",
    "def filler(dataframe):\n",
    "    cols=null_columns(dataframe)\n",
    "    fills=find_fills(dataframe)\n",
    "    for i in range(len(cols)):\n",
    "        val=fills[i]\n",
    "        dataframe[cols[i]].fillna(val,inplace=True)\n",
    "    print(dataframe.isna().sum())"
   ]
  },
  {
   "cell_type": "code",
   "execution_count": 12,
   "id": "8fa98625",
   "metadata": {},
   "outputs": [
    {
     "name": "stdout",
     "output_type": "stream",
     "text": [
      "phone_url    0\n",
      "date         0\n",
      "lang         0\n",
      "country      0\n",
      "source       0\n",
      "domain       0\n",
      "score        0\n",
      "score_max    0\n",
      "extract      0\n",
      "author       0\n",
      "product      0\n",
      "dtype: int64\n"
     ]
    }
   ],
   "source": [
    "filler(df)"
   ]
  },
  {
   "cell_type": "code",
   "execution_count": 13,
   "id": "2ced08d3",
   "metadata": {},
   "outputs": [],
   "source": [
    "df['score']=df['score'].astype('float64')\n",
    "df['score']=df['score'].apply(lambda x:round(x))"
   ]
  },
  {
   "cell_type": "code",
   "execution_count": 14,
   "id": "70511275",
   "metadata": {},
   "outputs": [],
   "source": [
    "df=df.drop_duplicates(keep='first')"
   ]
  },
  {
   "cell_type": "code",
   "execution_count": 15,
   "id": "6ff519fa",
   "metadata": {},
   "outputs": [
    {
     "name": "stdout",
     "output_type": "stream",
     "text": [
      "Final Dataframe Shape:(1408655, 11)\n"
     ]
    }
   ],
   "source": [
    "print(f\"Final Dataframe Shape:{df.shape}\")"
   ]
  },
  {
   "cell_type": "code",
   "execution_count": 16,
   "id": "72dd0509",
   "metadata": {},
   "outputs": [
    {
     "name": "stdout",
     "output_type": "stream",
     "text": [
      "Dataframe Shape:(1000000, 11)\n"
     ]
    }
   ],
   "source": [
    "#Selecting 1M Records for analysis\n",
    "df1=df.sample(n=1000000,random_state=612)\n",
    "print(f\"Dataframe Shape:{df1.shape}\")"
   ]
  },
  {
   "cell_type": "code",
   "execution_count": 17,
   "id": "8f8d8b80",
   "metadata": {},
   "outputs": [
    {
     "name": "stdout",
     "output_type": "stream",
     "text": [
      "Dataframe Shape:(1000000, 4)\n"
     ]
    }
   ],
   "source": [
    "#Dropping irrelevant features\n",
    "df1=df1.drop(['phone_url','date','lang','score_max','country','source','domain'],axis=1)\n",
    "print(f\"Dataframe Shape:{df1.shape}\")"
   ]
  },
  {
   "cell_type": "code",
   "execution_count": 18,
   "id": "63cb4925",
   "metadata": {},
   "outputs": [
    {
     "data": {
      "text/plain": [
       "(1000000, 4)"
      ]
     },
     "execution_count": 18,
     "metadata": {},
     "output_type": "execute_result"
    }
   ],
   "source": [
    "df2=df1.copy(deep=True)\n",
    "df2.shape"
   ]
  },
  {
   "cell_type": "code",
   "execution_count": 19,
   "id": "bb61a1bb",
   "metadata": {},
   "outputs": [
    {
     "data": {
      "text/html": [
       "<div>\n",
       "<style scoped>\n",
       "    .dataframe tbody tr th:only-of-type {\n",
       "        vertical-align: middle;\n",
       "    }\n",
       "\n",
       "    .dataframe tbody tr th {\n",
       "        vertical-align: top;\n",
       "    }\n",
       "\n",
       "    .dataframe thead th {\n",
       "        text-align: right;\n",
       "    }\n",
       "</style>\n",
       "<table border=\"1\" class=\"dataframe\">\n",
       "  <thead>\n",
       "    <tr style=\"text-align: right;\">\n",
       "      <th></th>\n",
       "      <th>score</th>\n",
       "      <th>extract</th>\n",
       "      <th>author</th>\n",
       "      <th>product</th>\n",
       "    </tr>\n",
       "  </thead>\n",
       "  <tbody>\n",
       "    <tr>\n",
       "      <th>1219720</th>\n",
       "      <td>10</td>\n",
       "      <td>Nadat ik reeds voor een goed jaar en half een ...</td>\n",
       "      <td>Steven</td>\n",
       "      <td>Samsung Galaxy S II White</td>\n",
       "    </tr>\n",
       "    <tr>\n",
       "      <th>801292</th>\n",
       "      <td>10</td>\n",
       "      <td>Also ich bin wirklich zufrieden mit der Tusche...</td>\n",
       "      <td>Sinika90</td>\n",
       "      <td>Samsung Galaxy Express I8730</td>\n",
       "    </tr>\n",
       "    <tr>\n",
       "      <th>1158058</th>\n",
       "      <td>10</td>\n",
       "      <td>Definitely worth every penny and I recommend t...</td>\n",
       "      <td>J. Higgins</td>\n",
       "      <td>Nokia N86 Unlocked Phone with 8 MP Camera, Aut...</td>\n",
       "    </tr>\n",
       "    <tr>\n",
       "      <th>518835</th>\n",
       "      <td>8</td>\n",
       "      <td>...was soll ich sagen, es tut, was es soll...i...</td>\n",
       "      <td>einem Kunden</td>\n",
       "      <td>ZTE Blade A452 Smartphone, 12,7 cm (5 Zoll) Di...</td>\n",
       "    </tr>\n",
       "    <tr>\n",
       "      <th>1307580</th>\n",
       "      <td>9</td>\n",
       "      <td>I've had my enV for 5 days and in a nutshell: ...</td>\n",
       "      <td>daisy33</td>\n",
       "      <td>enV VX-9900</td>\n",
       "    </tr>\n",
       "  </tbody>\n",
       "</table>\n",
       "</div>"
      ],
      "text/plain": [
       "         score                                            extract  \\\n",
       "1219720     10  Nadat ik reeds voor een goed jaar en half een ...   \n",
       "801292      10  Also ich bin wirklich zufrieden mit der Tusche...   \n",
       "1158058     10  Definitely worth every penny and I recommend t...   \n",
       "518835       8  ...was soll ich sagen, es tut, was es soll...i...   \n",
       "1307580      9  I've had my enV for 5 days and in a nutshell: ...   \n",
       "\n",
       "               author                                            product  \n",
       "1219720        Steven                          Samsung Galaxy S II White  \n",
       "801292       Sinika90                       Samsung Galaxy Express I8730  \n",
       "1158058    J. Higgins  Nokia N86 Unlocked Phone with 8 MP Camera, Aut...  \n",
       "518835   einem Kunden  ZTE Blade A452 Smartphone, 12,7 cm (5 Zoll) Di...  \n",
       "1307580       daisy33                                        enV VX-9900  "
      ]
     },
     "execution_count": 19,
     "metadata": {},
     "output_type": "execute_result"
    }
   ],
   "source": [
    "df1.head()"
   ]
  },
  {
   "cell_type": "markdown",
   "id": "9e7c5d1e",
   "metadata": {},
   "source": [
    "## Popularity based Recommendation for popular mobile Phones"
   ]
  },
  {
   "cell_type": "code",
   "execution_count": 20,
   "id": "51c4cdbc",
   "metadata": {},
   "outputs": [],
   "source": [
    "product_grp=df1.groupby(['product'])\n",
    "ratings=pd.DataFrame(product_grp['score'].min())\n",
    "ratings.rename({'score':'min_ratings'},axis=1,inplace=True)\n",
    "ratings['max_ratings']=product_grp['score'].max()\n",
    "ratings['num_ratings']=product_grp['score'].count()\n",
    "ratings['mean_ratings']=product_grp['score'].mean()"
   ]
  },
  {
   "cell_type": "code",
   "execution_count": 21,
   "id": "6977cb3f",
   "metadata": {},
   "outputs": [],
   "source": [
    "df_ratings=ratings.reset_index()"
   ]
  },
  {
   "cell_type": "code",
   "execution_count": 22,
   "id": "c0eb5af4",
   "metadata": {},
   "outputs": [
    {
     "name": "stdout",
     "output_type": "stream",
     "text": [
      "Top 10 popular Products by number of purchases\n"
     ]
    },
    {
     "data": {
      "text/plain": [
       "21823       Lenovo Vibe K4 Note (White,16GB)\n",
       "21822      Lenovo Vibe K4 Note (Black, 16GB)\n",
       "31967            OnePlus 3 (Graphite, 64 GB)\n",
       "31968           OnePlus 3 (Soft Gold, 64 GB)\n",
       "37712           Samsung Galaxy Express I8730\n",
       "15743            Huawei P8lite zwart / 16 GB\n",
       "21826    Lenovo Vibe K5 (Gold, VoLTE update)\n",
       "41086        Samsung Galaxy S6 zwart / 32 GB\n",
       "28182                 Nokia 5800 XpressMusic\n",
       "21828    Lenovo Vibe K5 (Grey, VoLTE update)\n",
       "Name: product, dtype: object"
      ]
     },
     "metadata": {},
     "output_type": "display_data"
    },
    {
     "name": "stdout",
     "output_type": "stream",
     "text": [
      "\n",
      "\n",
      "Top 10 popular Products with best ratings\n"
     ]
    },
    {
     "data": {
      "text/plain": [
       "20844                            LG X power (Ð¸Ð½Ð´Ð¸Ð³Ð¾)\n",
       "20842                              LG X power (Ð±ÐµÐ»ÑÐ¹)\n",
       "20843                    LG X power (Ð·Ð¾Ð»Ð¾ÑÐ¸ÑÑÑÐ¹)\n",
       "25716    Motorola Smartphone Motorola Novo Moto G Dual ...\n",
       "4862                            Apple iPhone 7 4,7\" 256 GB\n",
       "55526    Ð¡Ð¾ÑÐ¾Ð²ÑÐ¹ ÑÐµÐ»ÐµÑÐ¾Ð½ ASUS ZenFone 2 D...\n",
       "38356                                    Samsung Galaxy J7\n",
       "46386    Smartphone Motorola Moto G, 3G, Android 4.3, D...\n",
       "4563                           Apple iPhone 6s 4,7\" 128 GB\n",
       "45894          Sim Free iPhone 7 32GB Mobile Phone - Black\n",
       "Name: product, dtype: object"
      ]
     },
     "metadata": {},
     "output_type": "display_data"
    }
   ],
   "source": [
    "#Data with ratings count more than 50\n",
    "df_ratings=df_ratings[(df_ratings['min_ratings']!=df_ratings['max_ratings']) & (df_ratings['num_ratings']>50)]\n",
    "\n",
    "print(\"Top 10 popular Products by number of purchases\")\n",
    "num_purchases=df_ratings.sort_values(ascending=False,by='num_ratings')\n",
    "\n",
    "display(num_purchases['product'].head(10))\n",
    "print(\"\\n\")\n",
    "print(\"Top 10 popular Products with best ratings\")\n",
    "\n",
    "rates=df_ratings.sort_values(ascending=False,by='mean_ratings')\n",
    "\n",
    "display(rates['product'].head(10))"
   ]
  },
  {
   "cell_type": "markdown",
   "id": "10a085a1",
   "metadata": {},
   "source": [
    "### Select the data with products having more than 50 ratings and users who have given more than 50 ratings. Report the shape of the final dataset."
   ]
  },
  {
   "cell_type": "code",
   "execution_count": 23,
   "id": "0170575b",
   "metadata": {},
   "outputs": [
    {
     "name": "stdout",
     "output_type": "stream",
     "text": [
      "Number of products having more than 50 ratings and users who have given more than 50 ratings is 369\n"
     ]
    },
    {
     "data": {
      "text/html": [
       "<div>\n",
       "<style scoped>\n",
       "    .dataframe tbody tr th:only-of-type {\n",
       "        vertical-align: middle;\n",
       "    }\n",
       "\n",
       "    .dataframe tbody tr th {\n",
       "        vertical-align: top;\n",
       "    }\n",
       "\n",
       "    .dataframe thead th {\n",
       "        text-align: right;\n",
       "    }\n",
       "</style>\n",
       "<table border=\"1\" class=\"dataframe\">\n",
       "  <thead>\n",
       "    <tr style=\"text-align: right;\">\n",
       "      <th></th>\n",
       "      <th></th>\n",
       "      <th>num_ratings</th>\n",
       "    </tr>\n",
       "    <tr>\n",
       "      <th>product</th>\n",
       "      <th>author</th>\n",
       "      <th></th>\n",
       "    </tr>\n",
       "  </thead>\n",
       "  <tbody>\n",
       "    <tr>\n",
       "      <th>Lenovo Vibe K4 Note (White,16GB)</th>\n",
       "      <th>Amazon Customer</th>\n",
       "      <td>2171</td>\n",
       "    </tr>\n",
       "    <tr>\n",
       "      <th>Lenovo Vibe K4 Note (Black, 16GB)</th>\n",
       "      <th>Amazon Customer</th>\n",
       "      <td>1754</td>\n",
       "    </tr>\n",
       "    <tr>\n",
       "      <th>OnePlus 3 (Graphite, 64 GB)</th>\n",
       "      <th>Amazon Customer</th>\n",
       "      <td>1283</td>\n",
       "    </tr>\n",
       "    <tr>\n",
       "      <th>OnePlus 3 (Soft Gold, 64 GB)</th>\n",
       "      <th>Amazon Customer</th>\n",
       "      <td>1202</td>\n",
       "    </tr>\n",
       "    <tr>\n",
       "      <th>Lenovo Vibe K5 (Gold, VoLTE update)</th>\n",
       "      <th>Amazon Customer</th>\n",
       "      <td>1094</td>\n",
       "    </tr>\n",
       "    <tr>\n",
       "      <th>Lenovo Vibe K5 (Grey, VoLTE update)</th>\n",
       "      <th>Amazon Customer</th>\n",
       "      <td>972</td>\n",
       "    </tr>\n",
       "    <tr>\n",
       "      <th>Lenovo Used Lenovo Zuk Z1 (Space Grey, 64GB)</th>\n",
       "      <th>Amazon Customer</th>\n",
       "      <td>807</td>\n",
       "    </tr>\n",
       "    <tr>\n",
       "      <th>Lenovo Vibe K5 (Silver, 16GB)</th>\n",
       "      <th>Amazon Customer</th>\n",
       "      <td>649</td>\n",
       "    </tr>\n",
       "    <tr>\n",
       "      <th>YU Yuphoria YU5010A (Black+Silver)</th>\n",
       "      <th>Amazon Customer</th>\n",
       "      <td>636</td>\n",
       "    </tr>\n",
       "    <tr>\n",
       "      <th>OnePlus 3T (Gunmetal, 6GB RAM + 64GB memory)</th>\n",
       "      <th>Amazon Customer</th>\n",
       "      <td>626</td>\n",
       "    </tr>\n",
       "  </tbody>\n",
       "</table>\n",
       "</div>"
      ],
      "text/plain": [
       "                                                              num_ratings\n",
       "product                                      author                      \n",
       "Lenovo Vibe K4 Note (White,16GB)             Amazon Customer         2171\n",
       "Lenovo Vibe K4 Note (Black, 16GB)            Amazon Customer         1754\n",
       "OnePlus 3 (Graphite, 64 GB)                  Amazon Customer         1283\n",
       "OnePlus 3 (Soft Gold, 64 GB)                 Amazon Customer         1202\n",
       "Lenovo Vibe K5 (Gold, VoLTE update)          Amazon Customer         1094\n",
       "Lenovo Vibe K5 (Grey, VoLTE update)          Amazon Customer          972\n",
       "Lenovo Used Lenovo Zuk Z1 (Space Grey, 64GB) Amazon Customer          807\n",
       "Lenovo Vibe K5 (Silver, 16GB)                Amazon Customer          649\n",
       "YU Yuphoria YU5010A (Black+Silver)           Amazon Customer          636\n",
       "OnePlus 3T (Gunmetal, 6GB RAM + 64GB memory) Amazon Customer          626"
      ]
     },
     "metadata": {},
     "output_type": "display_data"
    }
   ],
   "source": [
    "product_users=df1.groupby(['product','author'])\n",
    "top_50=pd.DataFrame(product_users['score'].count())\n",
    "\n",
    "#renaming column for better understanding\n",
    "top_50.rename({'score':'num_ratings'},axis=1,inplace=True)\n",
    "\n",
    "top_50[top_50['num_ratings']>50].sort_values(by='num_ratings',ascending=False)\n",
    "print(f\"Number of products having more than 50 ratings and users who have given more than 50 ratings is {top_50[top_50['num_ratings']>50].shape[0]}\")\n",
    "display(top_50[top_50['num_ratings']>50].sort_values(by='num_ratings',ascending=False).head(10))"
   ]
  },
  {
   "cell_type": "markdown",
   "id": "30a9de04",
   "metadata": {},
   "source": [
    "### Identify the most rated features."
   ]
  },
  {
   "cell_type": "code",
   "execution_count": 24,
   "id": "bbceb039",
   "metadata": {},
   "outputs": [
    {
     "data": {
      "text/html": [
       "<div>\n",
       "<style scoped>\n",
       "    .dataframe tbody tr th:only-of-type {\n",
       "        vertical-align: middle;\n",
       "    }\n",
       "\n",
       "    .dataframe tbody tr th {\n",
       "        vertical-align: top;\n",
       "    }\n",
       "\n",
       "    .dataframe thead th {\n",
       "        text-align: right;\n",
       "    }\n",
       "</style>\n",
       "<table border=\"1\" class=\"dataframe\">\n",
       "  <thead>\n",
       "    <tr style=\"text-align: right;\">\n",
       "      <th></th>\n",
       "      <th>score</th>\n",
       "      <th>rating_counts</th>\n",
       "    </tr>\n",
       "    <tr>\n",
       "      <th>extract</th>\n",
       "      <th></th>\n",
       "      <th></th>\n",
       "    </tr>\n",
       "  </thead>\n",
       "  <tbody>\n",
       "    <tr>\n",
       "      <th>#NAME?</th>\n",
       "      <td>14024</td>\n",
       "      <td>14024</td>\n",
       "    </tr>\n",
       "    <tr>\n",
       "      <th>Excellent product</th>\n",
       "      <td>185</td>\n",
       "      <td>185</td>\n",
       "    </tr>\n",
       "    <tr>\n",
       "      <th>Very good product</th>\n",
       "      <td>119</td>\n",
       "      <td>119</td>\n",
       "    </tr>\n",
       "    <tr>\n",
       "      <th>Excelente producto</th>\n",
       "      <td>87</td>\n",
       "      <td>87</td>\n",
       "    </tr>\n",
       "    <tr>\n",
       "      <th>very good product</th>\n",
       "      <td>77</td>\n",
       "      <td>77</td>\n",
       "    </tr>\n",
       "  </tbody>\n",
       "</table>\n",
       "</div>"
      ],
      "text/plain": [
       "                    score  rating_counts\n",
       "extract                                 \n",
       "#NAME?              14024          14024\n",
       "Excellent product     185            185\n",
       "Very good product     119            119\n",
       "Excelente producto     87             87\n",
       "very good product      77             77"
      ]
     },
     "execution_count": 24,
     "metadata": {},
     "output_type": "execute_result"
    }
   ],
   "source": [
    "ratings_mean_count = pd.DataFrame(df1.groupby('extract')['score'].count().sort_values(ascending=False)) \n",
    "ratings_mean_count['rating_counts'] = pd.DataFrame(df1.groupby('extract')['score'].count().sort_values(ascending=False))  \n",
    "ratings_mean_count.head(5) "
   ]
  },
  {
   "cell_type": "markdown",
   "id": "b0538892",
   "metadata": {},
   "source": [
    "### Identify the users with most number of reviews."
   ]
  },
  {
   "cell_type": "code",
   "execution_count": 25,
   "id": "282f1d0c",
   "metadata": {},
   "outputs": [
    {
     "data": {
      "text/html": [
       "<div>\n",
       "<style scoped>\n",
       "    .dataframe tbody tr th:only-of-type {\n",
       "        vertical-align: middle;\n",
       "    }\n",
       "\n",
       "    .dataframe tbody tr th {\n",
       "        vertical-align: top;\n",
       "    }\n",
       "\n",
       "    .dataframe thead th {\n",
       "        text-align: right;\n",
       "    }\n",
       "</style>\n",
       "<table border=\"1\" class=\"dataframe\">\n",
       "  <thead>\n",
       "    <tr style=\"text-align: right;\">\n",
       "      <th></th>\n",
       "      <th>number_of_ratings</th>\n",
       "    </tr>\n",
       "    <tr>\n",
       "      <th>author</th>\n",
       "      <th></th>\n",
       "    </tr>\n",
       "  </thead>\n",
       "  <tbody>\n",
       "    <tr>\n",
       "      <th>Amazon Customer</th>\n",
       "      <td>98350</td>\n",
       "    </tr>\n",
       "    <tr>\n",
       "      <th>Cliente Amazon</th>\n",
       "      <td>13653</td>\n",
       "    </tr>\n",
       "    <tr>\n",
       "      <th>e-bit</th>\n",
       "      <td>5974</td>\n",
       "    </tr>\n",
       "    <tr>\n",
       "      <th>Client d'Amazon</th>\n",
       "      <td>5487</td>\n",
       "    </tr>\n",
       "    <tr>\n",
       "      <th>Amazon Kunde</th>\n",
       "      <td>3296</td>\n",
       "    </tr>\n",
       "    <tr>\n",
       "      <th>Anonymous</th>\n",
       "      <td>1915</td>\n",
       "    </tr>\n",
       "    <tr>\n",
       "      <th>einer Kundin</th>\n",
       "      <td>1890</td>\n",
       "    </tr>\n",
       "    <tr>\n",
       "      <th>einem Kunden</th>\n",
       "      <td>1350</td>\n",
       "    </tr>\n",
       "    <tr>\n",
       "      <th>unknown</th>\n",
       "      <td>1197</td>\n",
       "    </tr>\n",
       "    <tr>\n",
       "      <th>Anonymous</th>\n",
       "      <td>1013</td>\n",
       "    </tr>\n",
       "  </tbody>\n",
       "</table>\n",
       "</div>"
      ],
      "text/plain": [
       "                 number_of_ratings\n",
       "author                            \n",
       "Amazon Customer              98350\n",
       "Cliente Amazon               13653\n",
       "e-bit                         5974\n",
       "Client d'Amazon               5487\n",
       "Amazon Kunde                  3296\n",
       "Anonymous                     1915\n",
       "einer Kundin                  1890\n",
       "einem Kunden                  1350\n",
       "unknown                       1197\n",
       "Anonymous                     1013"
      ]
     },
     "execution_count": 25,
     "metadata": {},
     "output_type": "execute_result"
    }
   ],
   "source": [
    "users = pd.DataFrame(df1.groupby('author')['score'].count().sort_values(ascending=False)) \n",
    "users.rename({'score':'number_of_ratings'},axis=1,inplace=True)\n",
    "users.head(10)"
   ]
  },
  {
   "cell_type": "markdown",
   "id": "10bd4378",
   "metadata": {},
   "source": [
    "### Splitting Dataframe into testing,training set"
   ]
  },
  {
   "cell_type": "code",
   "execution_count": 26,
   "id": "d116b6af",
   "metadata": {},
   "outputs": [
    {
     "data": {
      "text/html": [
       "<div>\n",
       "<style scoped>\n",
       "    .dataframe tbody tr th:only-of-type {\n",
       "        vertical-align: middle;\n",
       "    }\n",
       "\n",
       "    .dataframe tbody tr th {\n",
       "        vertical-align: top;\n",
       "    }\n",
       "\n",
       "    .dataframe thead th {\n",
       "        text-align: right;\n",
       "    }\n",
       "</style>\n",
       "<table border=\"1\" class=\"dataframe\">\n",
       "  <thead>\n",
       "    <tr style=\"text-align: right;\">\n",
       "      <th></th>\n",
       "      <th>itemID</th>\n",
       "      <th>userID</th>\n",
       "      <th>rating</th>\n",
       "    </tr>\n",
       "  </thead>\n",
       "  <tbody>\n",
       "    <tr>\n",
       "      <th>0</th>\n",
       "      <td>Samsung GALAXY Note II 16GB</td>\n",
       "      <td>Anatomy92</td>\n",
       "      <td>10</td>\n",
       "    </tr>\n",
       "    <tr>\n",
       "      <th>1</th>\n",
       "      <td>Samsung Galaxy Ace (S5830i) - Smartphone libre...</td>\n",
       "      <td>fsedeno</td>\n",
       "      <td>8</td>\n",
       "    </tr>\n",
       "    <tr>\n",
       "      <th>2</th>\n",
       "      <td>Smartphone Nokia Lumia 730 Dual Chip Desbloque...</td>\n",
       "      <td>vincetodoh</td>\n",
       "      <td>10</td>\n",
       "    </tr>\n",
       "    <tr>\n",
       "      <th>3</th>\n",
       "      <td>Samsung Guru GT-E1200 (Indigo Blue)</td>\n",
       "      <td>Mith</td>\n",
       "      <td>10</td>\n",
       "    </tr>\n",
       "    <tr>\n",
       "      <th>4</th>\n",
       "      <td>Nokia C3-00 SIM Free Smartphone</td>\n",
       "      <td>Robert Walker</td>\n",
       "      <td>6</td>\n",
       "    </tr>\n",
       "  </tbody>\n",
       "</table>\n",
       "</div>"
      ],
      "text/plain": [
       "                                              itemID         userID  rating\n",
       "0                        Samsung GALAXY Note II 16GB      Anatomy92      10\n",
       "1  Samsung Galaxy Ace (S5830i) - Smartphone libre...        fsedeno       8\n",
       "2  Smartphone Nokia Lumia 730 Dual Chip Desbloque...     vincetodoh      10\n",
       "3                Samsung Guru GT-E1200 (Indigo Blue)           Mith      10\n",
       "4                    Nokia C3-00 SIM Free Smartphone  Robert Walker       6"
      ]
     },
     "metadata": {},
     "output_type": "display_data"
    }
   ],
   "source": [
    "#Reducing samples to 5k\n",
    "df2=df2.sample(random_state=500,n=5000,ignore_index=True)\n",
    "\n",
    "#Creating a user defined dataset\n",
    "\n",
    "itemID=df2['product'].values.tolist()\n",
    "userID=df2['author'].values.tolist()\n",
    "rating=df2['score'].values.tolist()\n",
    "ratings_dict = {'itemID': itemID,\n",
    "                'userID': userID,\n",
    "                'rating': rating}\n",
    "rating = pd.DataFrame(ratings_dict)\n",
    "\n",
    "display(rating.head())\n",
    "\n",
    "#Reader to read the ratings on rating_scale param scale from min to max rating\n",
    "reader = Reader(rating_scale=(min(rating['rating']), max(rating['rating'])))\n",
    "\n",
    "#loading the dataset \n",
    "data = Dataset.load_from_df(rating[['userID', 'itemID', 'rating']], reader)\n",
    "\n",
    "#Splitting the dataset\n",
    "trainset, testset = train_test_split(data, test_size=.30)\n"
   ]
  },
  {
   "cell_type": "markdown",
   "id": "eacb652a",
   "metadata": {},
   "source": [
    "## collaborative filtering using item-item and user-user based Recommendation for popular mobile Phones"
   ]
  },
  {
   "cell_type": "code",
   "execution_count": 27,
   "id": "497658c2",
   "metadata": {},
   "outputs": [
    {
     "name": "stdout",
     "output_type": "stream",
     "text": [
      "Computing the cosine similarity matrix...\n",
      "Done computing similarity matrix.\n",
      "Computing the cosine similarity matrix...\n",
      "Done computing similarity matrix.\n"
     ]
    }
   ],
   "source": [
    "#Training the user based model based on KNN\n",
    "algo1 = KNNWithMeans(k=50, sim_options={'name': 'cosine', 'user_based': True})\n",
    "algo1.fit(trainset)\n",
    "\n",
    "#Running on the test dataset\n",
    "test_pred1 = algo1.test(testset)\n",
    "\n",
    "\n",
    "#Training the item based model based on KNN\n",
    "algo2 = KNNWithMeans(k=50, sim_options={'name': 'cosine', 'user_based': False})\n",
    "algo2.fit(trainset)\n",
    "\n",
    "#Running on the test dataset\n",
    "test_pred2 = algo2.test(testset)\n",
    "\n"
   ]
  },
  {
   "cell_type": "markdown",
   "id": "36617a2a",
   "metadata": {},
   "source": [
    "## Collaborative filtering based on SVD"
   ]
  },
  {
   "cell_type": "code",
   "execution_count": 28,
   "id": "08970023",
   "metadata": {},
   "outputs": [],
   "source": [
    "df3=df1.copy(deep=True)\n",
    "df3=df3.sample(n=5000)\n",
    "item=df3['product'].values.tolist()\n",
    "user=df3['author'].values.tolist()\n",
    "score=df3['score'].values.tolist()\n",
    "score_dict={'score':score,\n",
    "           'item':item,\n",
    "           'user':user}\n",
    "score_df=pd.DataFrame(score_dict)\n",
    "\n",
    "#Reader to read the ratings on rating_scale param scale from min to max rating\n",
    "reader = Reader(rating_scale=(min(score_df['score']), max(score_df['score'])))\n",
    "\n",
    "#loading the dataset \n",
    "data = Dataset.load_from_df(score_df[['user', 'item', 'score']], reader)"
   ]
  },
  {
   "cell_type": "code",
   "execution_count": 29,
   "id": "7aeeb3b0",
   "metadata": {},
   "outputs": [],
   "source": [
    "#getting the training data from the dataset\n",
    "train=data.build_full_trainset()\n",
    "\n",
    "#Fitting the SVD on trainset with best parameters\n",
    "algo3=SVD()\n",
    "\n",
    "algo3.fit(train)\n",
    "\n",
    "#Building testset from the trainset which does not have a rating for the user and item combination.\n",
    "test=train.build_anti_testset()\n",
    "\n",
    "#Make prediction\n",
    "prediction3=algo3.test(test)"
   ]
  },
  {
   "cell_type": "code",
   "execution_count": 30,
   "id": "e249fd29",
   "metadata": {},
   "outputs": [
    {
     "name": "stdout",
     "output_type": "stream",
     "text": [
      "Average Rating for all of the predicted users :=8.140000000548978\n",
      "RMSE Score for Collaborative model using SVD:=0.332261215829479\n",
      "Average Rating for all of the predicted users :=8.045333333333334\n",
      "RMSE Score for Collaborative model using item-item based filtering:=0.4816088120369681\n",
      "Average Rating for all of the predicted users :=8.045333333333334\n",
      "RMSE Score for Collaborative model using user-user based filtering:=0.40496361081277915\n"
     ]
    }
   ],
   "source": [
    "#Finding the average rating for the test users\n",
    "def average_rating(dataset):\n",
    "    sum=0\n",
    "    count=0\n",
    "    for i in dataset:\n",
    "        sum+=i.r_ui\n",
    "        count+=1\n",
    "    return(sum/count)\n",
    "\n",
    "#Finding RMSE Score for SVD based Model\n",
    "def score(dataset):\n",
    "    sum=0\n",
    "    count=0\n",
    "    avg_score=average_rating(dataset)\n",
    "    for i in dataset:\n",
    "        diff=0\n",
    "        square=0\n",
    "        estm=i.est\n",
    "        diff=avg_score-estm\n",
    "        square=math.pow(diff,2)\n",
    "        sum+=square\n",
    "        count+=1\n",
    "    print(f\"Average Rating for all of the predicted users :={avg_score}\")\n",
    "    return(math.sqrt(sum/count))\n",
    "print(f\"RMSE Score for Collaborative model using SVD:={score(prediction3)}\")\n",
    "print(f\"RMSE Score for Collaborative model using item-item based filtering:={score(test_pred2)}\")\n",
    "print(f\"RMSE Score for Collaborative model using user-user based filtering:={score(test_pred1)}\")"
   ]
  },
  {
   "cell_type": "markdown",
   "id": "c8bb2ea4",
   "metadata": {},
   "source": [
    "#### The SVD based Colloborative filtering gives best accuracy score \n",
    "#### User-User based colloborative filtering gives much better results as compared to item-item filtering"
   ]
  },
  {
   "cell_type": "markdown",
   "id": "02b502e2",
   "metadata": {},
   "source": [
    "#### Tuning the SVD model with K fold validation"
   ]
  },
  {
   "cell_type": "code",
   "execution_count": 40,
   "id": "6097bf01",
   "metadata": {},
   "outputs": [
    {
     "name": "stdout",
     "output_type": "stream",
     "text": [
      "Average Rating for all of the predicted users :=8.043\n",
      "RMSE Score for Collaborative model using k-fold SVD :=0.40834020292701423\n"
     ]
    }
   ],
   "source": [
    "# Defining Kfold\n",
    "kf=KFold(n_splits=5,shuffle=True)\n",
    "\n",
    "#Declaring SVD algorithm\n",
    "algo4=SVD()\n",
    "\n",
    "#Splitting data into train test\n",
    "for train,test in kf.split(data):\n",
    "    algo4.fit(train)\n",
    "    prediction4=algo4.test(test)\n",
    "print(f\"RMSE Score for Collaborative model using k-fold SVD :={score(prediction4)}\")      "
   ]
  },
  {
   "cell_type": "code",
   "execution_count": 42,
   "id": "ee15495e",
   "metadata": {},
   "outputs": [],
   "source": [
    "# Getting top 5 Best mobile recommendation for the users\n",
    "\n",
    "def top_recommendations(prediction,N):\n",
    "    \n",
    "    top_items=defaultdict(list)\n",
    "    for uid,iid,true_r,est,_ in prediction:\n",
    "        top_items[uid].append((iid,est))\n",
    "    \n",
    "    for uid,ratings in top_items.items():\n",
    "        ratings.sort(key= lambda x:x[1],reverse=True)\n",
    "        top_items[uid]=ratings[:N]\n",
    "    return top_items\n",
    "recommendations=top_recommendations(prediction4,5)"
   ]
  },
  {
   "cell_type": "code",
   "execution_count": 43,
   "id": "f70c71cf",
   "metadata": {},
   "outputs": [
    {
     "data": {
      "text/plain": [
       "'Nokia N8'"
      ]
     },
     "metadata": {},
     "output_type": "display_data"
    },
    {
     "data": {
      "text/plain": [
       "'OnePlus 3T (Soft Gold, 6GB RAM + 64GB memory)'"
      ]
     },
     "metadata": {},
     "output_type": "display_data"
    },
    {
     "data": {
      "text/plain": [
       "'OnePlus 3T (Gunmetal, 6GB RAM + 64GB memory)'"
      ]
     },
     "metadata": {},
     "output_type": "display_data"
    },
    {
     "data": {
      "text/plain": [
       "'LG KM900 Arena'"
      ]
     },
     "metadata": {},
     "output_type": "display_data"
    },
    {
     "data": {
      "text/plain": [
       "'Nokia 603'"
      ]
     },
     "metadata": {},
     "output_type": "display_data"
    }
   ],
   "source": [
    "# Getting top 5 Best mobile recommendation for a specific User \n",
    "def get_products(recommendations,user):\n",
    "    for uid,items in recommendations.items():\n",
    "        if uid=='Amazon Customer':\n",
    "            item_list=items\n",
    "    for product in item_list:\n",
    "        display(product[0])\n",
    "get_products(recommendations,\"carol jones\")        "
   ]
  },
  {
   "cell_type": "markdown",
   "id": "0cbaa77f",
   "metadata": {},
   "source": [
    "#### In what business scenario you should use popularity based Recommendation Systems ?\n",
    "\n",
    "Ans: Popularity based recommendation system is more useful when the user is new and there is no prior information about the buying habits of the users. So we can show them the most popular products in our store. This would prevent us from cold start issue and atleast a scope getting some idea after the user makes a purchase."
   ]
  },
  {
   "cell_type": "markdown",
   "id": "607af91f",
   "metadata": {},
   "source": [
    "##### In what business scenario you should use CF based Recommendation Systems ?\n",
    "\n",
    "Ans: Colloborative filtering recommendation would be used when theuser has atleast a profile and he has some prior history of some products and has rated some of the products and/or there are users who are similar to this target user and has similar taste of products thereby facilitating us to make a common recommendation to these both users."
   ]
  },
  {
   "cell_type": "markdown",
   "id": "5300bdd2",
   "metadata": {},
   "source": [
    "#### What other possible methods can you think of which can further improve the recommendation for different users ?\n",
    "\n",
    "Ans: The other possible way is to use either of the following approaches.\n",
    "\n",
    "1. Use a combination of Popularity based algorithm and CF based method.\n",
    "2. Getting the contents that are explcitly selected by the user and when a profile is made for the user make a colloborative approach to find similar users and recommend the products shared by both the users forming a unique combination.\n",
    "3. Based on the frequent trend in buying pattern of the user try and recommend the Similar products based on the market basket approach thereby increasing the sale of the main product aswell as the other item in combination."
   ]
  },
  {
   "cell_type": "markdown",
   "id": "3c55c8e8",
   "metadata": {},
   "source": [
    "#### Improvements and Recommendations\n",
    "\n",
    "* As evident from the dataset there is much anamoly/irregularity with respect to the Users,Description/Reviews about the product and the Similar variant of the Product forming a repetative combination was found that certainly led to the decrease in the model performance.\n",
    "* There are a large number of users which are named as Anonymous or termed as Customer of the site the purchase made. It could be further analysed and asked for more refinemenet to make a better understanding.\n",
    "* There should be a provision of the Country, Company attribute which would help in making a broader classification of the clusters for the products "
   ]
  },
  {
   "cell_type": "code",
   "execution_count": null,
   "id": "14d8bf82",
   "metadata": {},
   "outputs": [],
   "source": []
  },
  {
   "cell_type": "code",
   "execution_count": null,
   "id": "fdc378b3",
   "metadata": {},
   "outputs": [],
   "source": []
  }
 ],
 "metadata": {
  "kernelspec": {
   "display_name": "Python 3",
   "language": "python",
   "name": "python3"
  },
  "language_info": {
   "codemirror_mode": {
    "name": "ipython",
    "version": 3
   },
   "file_extension": ".py",
   "mimetype": "text/x-python",
   "name": "python",
   "nbconvert_exporter": "python",
   "pygments_lexer": "ipython3",
   "version": "3.8.8"
  }
 },
 "nbformat": 4,
 "nbformat_minor": 5
}
